{
 "cells": [
  {
   "cell_type": "code",
   "execution_count": null,
   "metadata": {},
   "outputs": [],
   "source": [
    "import requests # type: ignore\n",
    "import os\n",
    "import pandas as pd # type: ignore\n",
    "from bs4 import BeautifulSoup # type: ignore\n",
    "from dotenv import load_dotenv # type: ignore\n",
    "from requests.exceptions import RequestException # type: ignore\n",
    "from fake_useragent import UserAgent # type: ignore\n",
    "from tenacity import (retry,retry_if_exception_type,stop_after_attempt , wait_exponential)\n",
    "from datetime import date ,time"
   ]
  },
  {
   "cell_type": "code",
   "execution_count": null,
   "metadata": {},
   "outputs": [],
   "source": [
    "load_dotenv()"
   ]
  },
  {
   "cell_type": "code",
   "execution_count": null,
   "metadata": {},
   "outputs": [],
   "source": [
    "base_url =  os.getenv(\"BASE_URL\")\n",
    "matches_url = os.getenv(\"MATCHES_URL\")"
   ]
  },
  {
   "cell_type": "code",
   "execution_count": null,
   "metadata": {},
   "outputs": [],
   "source": [
    "def genrate_random_useragent():\n",
    "    # Create a UserAgent object\n",
    "    ua = UserAgent()\n",
    "    # Get a random user agent string\n",
    "    random_user_agent = ua['Chrome']\n",
    "    return random_user_agent\n",
    "\n"
   ]
  },
  {
   "cell_type": "code",
   "execution_count": null,
   "metadata": {},
   "outputs": [],
   "source": [
    "@retry(\n",
    "    reraise = True,\n",
    "    stop = stop_after_attempt(5),\n",
    "    wait = wait_exponential(multiplier = 1 , min = 1 , max = 10),\n",
    "    retry = (retry_if_exception_type(RequestException))\n",
    ")\n",
    "def requests_with_retry(url):\n",
    "    \n",
    "    user_agent = genrate_random_useragent()\n",
    "    headers = {'User-Agent': user_agent}\n",
    "    \n",
    "    try:\n",
    "        res = requests.get(url=url,headers=headers)\n",
    "        res.raise_for_status()\n",
    "        print(res.request.headers)\n",
    "        return res\n",
    "    except RequestException as e:\n",
    "        print(f\"Exception occured : {e}\")\n",
    "        raise RequestException\n",
    "           \n",
    "    "
   ]
  },
  {
   "cell_type": "code",
   "execution_count": null,
   "metadata": {},
   "outputs": [],
   "source": [
    "response = requests_with_retry(url = matches_url)\n",
    "soup = BeautifulSoup(response.content)\n"
   ]
  },
  {
   "cell_type": "code",
   "execution_count": null,
   "metadata": {},
   "outputs": [],
   "source": [
    "upcomming_matches_sections = soup.find_all('div',class_='upcomingMatchesSection')"
   ]
  },
  {
   "cell_type": "code",
   "execution_count": null,
   "metadata": {},
   "outputs": [],
   "source": [
    "# Initialize an empty list to store match dictionaries\n",
    "all_matches = []\n",
    "\n",
    "for section in upcomming_matches_sections:\n",
    "    match_date_tag = section.find('span', class_=\"matchDayHeadline\")\n",
    "    # print(match_date_tag.text)\n",
    "\n",
    "    upcoming_matches = section.find_all('div', class_='upcomingMatch')\n",
    "\n",
    "    for match in upcoming_matches:\n",
    "        match_meta_tag = match.find('div', class_='matchMeta')\n",
    "        match_time_tag = match.find('div', class_='matchTime')\n",
    "       \n",
    "        match_rating = match['stars']\n",
    "\n",
    "        # Create a new match dictionary for each match\n",
    "        match_dictionary = {\n",
    "            'matchDate': match_date_tag.text,\n",
    "            'matchEventName': 'ABHI LITE LEE RAHE HAI',\n",
    "            'matchMeta': match_meta_tag.text,\n",
    "            'matchTime': match_time_tag.text,\n",
    "            'matchRating': match_rating,\n",
    "            'matchTeam1': '',\n",
    "            'matchTeam2': ''\n",
    "        }\n",
    "\n",
    "        if match.find_all('div', class_='matchInfoEmpty'):\n",
    "            match_dictionary['matchTeam1'] = 'TBD'\n",
    "            match_dictionary['matchTeam2'] = 'TBD'\n",
    "            match_event_name_tag = match.find('span', class_='line-clamp-3')\n",
    "            match_dictionary['matchEventName'] = match_event_name_tag.text\n",
    "        else:\n",
    "            match_event_name_tag = match.find('div', class_='matchEventName')\n",
    "            match_dictionary['matchEventName'] = match_event_name_tag.text\n",
    "            teams = match.find_all('div', class_='matchTeamName')\n",
    "            if len(teams) == 1:\n",
    "                match_dictionary['matchTeam2'] = 'TBD'\n",
    "                match_dictionary['matchTeam1'] = teams[0].text\n",
    "            else:\n",
    "                match_dictionary['matchTeam1'] = teams[0].text\n",
    "                match_dictionary['matchTeam2'] = teams[1].text\n",
    "\n",
    "        # Append the match dictionary to the list\n",
    "        all_matches.append(match_dictionary)\n",
    "\n",
    "# Now all_matches contains a list of dictionaries, each representing a match\n",
    "\n"
   ]
  },
  {
   "cell_type": "code",
   "execution_count": null,
   "metadata": {},
   "outputs": [],
   "source": [
    "all_matches_df = pd.DataFrame(all_matches)"
   ]
  },
  {
   "cell_type": "code",
   "execution_count": null,
   "metadata": {},
   "outputs": [],
   "source": [
    "all_matches_df.head(20)"
   ]
  }
 ],
 "metadata": {
  "kernelspec": {
   "display_name": "Python 3",
   "language": "python",
   "name": "python3"
  },
  "language_info": {
   "codemirror_mode": {
    "name": "ipython",
    "version": 3
   },
   "file_extension": ".py",
   "mimetype": "text/x-python",
   "name": "python",
   "nbconvert_exporter": "python",
   "pygments_lexer": "ipython3",
   "version": "3.10.4"
  }
 },
 "nbformat": 4,
 "nbformat_minor": 2
}
