{
 "cells": [
  {
   "cell_type": "code",
   "execution_count": 3,
   "metadata": {},
   "outputs": [],
   "source": [
    "import requests # type: ignore\n",
    "import os\n",
    "import pandas as pd # type: ignore\n",
    "from bs4 import BeautifulSoup # type: ignore\n",
    "from dotenv import load_dotenv # type: ignore\n",
    "from requests.exceptions import RequestException # type: ignore\n",
    "from fake_useragent import UserAgent # type: ignore\n",
    "from tenacity import (retry,retry_if_exception_type,stop_after_attempt , wait_exponential)\n",
    "from datetime import date ,time , datetime, timedelta\n",
    "from utils import convert_date_format\n",
    "from dbutils import Database"
   ]
  },
  {
   "cell_type": "code",
   "execution_count": 4,
   "metadata": {},
   "outputs": [
    {
     "data": {
      "text/plain": [
       "True"
      ]
     },
     "execution_count": 4,
     "metadata": {},
     "output_type": "execute_result"
    }
   ],
   "source": [
    "load_dotenv()"
   ]
  },
  {
   "cell_type": "code",
   "execution_count": 5,
   "metadata": {},
   "outputs": [],
   "source": [
    "base_url =  os.getenv(\"BASE_URL\")\n",
    "matches_url = os.getenv(\"MATCHES_URL\")"
   ]
  },
  {
   "cell_type": "code",
   "execution_count": 6,
   "metadata": {},
   "outputs": [],
   "source": [
    "def genrate_random_useragent():\n",
    "    # Create a UserAgent object\n",
    "    ua = UserAgent()\n",
    "    # Get a random user agent string\n",
    "    random_user_agent = ua.random\n",
    "    return random_user_agent\n",
    "\n"
   ]
  },
  {
   "cell_type": "code",
   "execution_count": 7,
   "metadata": {},
   "outputs": [],
   "source": [
    "@retry(\n",
    "    reraise = True,\n",
    "    stop = stop_after_attempt(10),\n",
    "    wait = wait_exponential(multiplier = 2 , min = 1 , max = 10),\n",
    "    retry = (retry_if_exception_type(RequestException))\n",
    ")\n",
    "def requests_with_retry(url):\n",
    "    \n",
    "    user_agent = genrate_random_useragent()\n",
    "    headers = {'User-Agent': user_agent}\n",
    "    \n",
    "    try:\n",
    "        res = requests.get(url=url,headers=headers)\n",
    "        # print(res.request.headers)\n",
    "        res.raise_for_status()\n",
    "        return res\n",
    "    except RequestException as e:\n",
    "        print(f\"Exception occured : {e}\")\n",
    "        raise RequestException\n",
    "           \n",
    "    "
   ]
  },
  {
   "cell_type": "code",
   "execution_count": 8,
   "metadata": {},
   "outputs": [],
   "source": [
    "response = requests_with_retry(url = matches_url)\n",
    "soup = BeautifulSoup(response.content)\n"
   ]
  },
  {
   "cell_type": "code",
   "execution_count": 9,
   "metadata": {},
   "outputs": [],
   "source": [
    "upcomming_matches_sections = soup.find_all('div',class_='upcomingMatchesSection')"
   ]
  },
  {
   "cell_type": "code",
   "execution_count": 10,
   "metadata": {},
   "outputs": [],
   "source": [
    "# Initialize an empty list to store match dictionaries\n",
    "all_matches = []\n",
    "\n",
    "for section in upcomming_matches_sections:\n",
    "    upcoming_matches = section.find_all('div', class_='upcomingMatch')\n",
    "\n",
    "    for match in upcoming_matches:\n",
    "        \n",
    "        match_meta_tag = match.find('div', class_='matchMeta')\n",
    "        match_time_tag = match.find('div', class_='matchTime')\n",
    "        match_rating = match['stars']\n",
    "        \n",
    "        timestamp = int(match_time_tag['data-unix'])//1000\n",
    "        match_date = datetime.fromtimestamp(timestamp).strftime('%Y-%m-%d %H:%M')\n",
    "        date = convert_date_format(match_date.split()[0])\n",
    "        time = match_date.split()[1]    \n",
    "\n",
    "        # Create a new match dictionary for each match\n",
    "        match_dictionary = {\n",
    "            'matchDate': date,\n",
    "            'matchEventName': 'ABHI LITE LEE RAHE HAI',\n",
    "            'matchMeta': match_meta_tag.text,\n",
    "            'matchTime': time,\n",
    "            'matchRating': match_rating,\n",
    "            'matchTeam1': '',\n",
    "            'matchTeam2': ''\n",
    "        }\n",
    "\n",
    "        if match.find_all('div', class_='matchInfoEmpty'):\n",
    "            match_dictionary['matchTeam1'] = 'TBD'\n",
    "            match_dictionary['matchTeam2'] = 'TBD'\n",
    "            match_event_name_tag = match.find('span', class_='line-clamp-3')\n",
    "            match_dictionary['matchEventName'] = match_event_name_tag.text\n",
    "        else:\n",
    "            match_event_name_tag = match.find('div', class_='matchEventName')\n",
    "            match_dictionary['matchEventName'] = match_event_name_tag.text\n",
    "            teams = match.find_all('div', class_='matchTeamName')\n",
    "            if len(teams) == 1:\n",
    "                match_dictionary['matchTeam2'] = 'TBD'\n",
    "                match_dictionary['matchTeam1'] = teams[0].text\n",
    "            else:\n",
    "                match_dictionary['matchTeam1'] = teams[0].text\n",
    "                match_dictionary['matchTeam2'] = teams[1].text\n",
    "\n",
    "        # Append the match dictionary to the list\n",
    "        all_matches.append(match_dictionary)\n",
    "\n",
    "# Now all_matches contains a list of dictionaries, each representing a match\n",
    "\n"
   ]
  },
  {
   "cell_type": "code",
   "execution_count": 11,
   "metadata": {},
   "outputs": [],
   "source": [
    "all_matches_df = pd.DataFrame(all_matches)"
   ]
  },
  {
   "cell_type": "code",
   "execution_count": 12,
   "metadata": {},
   "outputs": [
    {
     "data": {
      "text/html": [
       "<div>\n",
       "<style scoped>\n",
       "    .dataframe tbody tr th:only-of-type {\n",
       "        vertical-align: middle;\n",
       "    }\n",
       "\n",
       "    .dataframe tbody tr th {\n",
       "        vertical-align: top;\n",
       "    }\n",
       "\n",
       "    .dataframe thead th {\n",
       "        text-align: right;\n",
       "    }\n",
       "</style>\n",
       "<table border=\"1\" class=\"dataframe\">\n",
       "  <thead>\n",
       "    <tr style=\"text-align: right;\">\n",
       "      <th></th>\n",
       "      <th>matchDate</th>\n",
       "      <th>matchEventName</th>\n",
       "      <th>matchMeta</th>\n",
       "      <th>matchTime</th>\n",
       "      <th>matchRating</th>\n",
       "      <th>matchTeam1</th>\n",
       "      <th>matchTeam2</th>\n",
       "    </tr>\n",
       "  </thead>\n",
       "  <tbody>\n",
       "    <tr>\n",
       "      <th>0</th>\n",
       "      <td>2024-05-30, Thursday</td>\n",
       "      <td>MESA Nomadic Masters Spring 2024</td>\n",
       "      <td>bo3</td>\n",
       "      <td>15:45</td>\n",
       "      <td>1</td>\n",
       "      <td>Chinggis Warriors</td>\n",
       "      <td>OG</td>\n",
       "    </tr>\n",
       "    <tr>\n",
       "      <th>1</th>\n",
       "      <td>2024-05-30, Thursday</td>\n",
       "      <td>European Pro League Season 16</td>\n",
       "      <td>bo3</td>\n",
       "      <td>16:00</td>\n",
       "      <td>0</td>\n",
       "      <td>iNation</td>\n",
       "      <td>Permitta</td>\n",
       "    </tr>\n",
       "    <tr>\n",
       "      <th>2</th>\n",
       "      <td>2024-05-30, Thursday</td>\n",
       "      <td>CCT Season 2 Europe Series 4</td>\n",
       "      <td>bo3</td>\n",
       "      <td>17:30</td>\n",
       "      <td>1</td>\n",
       "      <td>FURIA</td>\n",
       "      <td>RUBY</td>\n",
       "    </tr>\n",
       "    <tr>\n",
       "      <th>3</th>\n",
       "      <td>2024-05-30, Thursday</td>\n",
       "      <td>European Pro League Season 16</td>\n",
       "      <td>bo3</td>\n",
       "      <td>19:00</td>\n",
       "      <td>0</td>\n",
       "      <td>Zero Tenacity</td>\n",
       "      <td>Passion UA</td>\n",
       "    </tr>\n",
       "    <tr>\n",
       "      <th>4</th>\n",
       "      <td>2024-05-30, Thursday</td>\n",
       "      <td>ESEA Advanced Season 49 Europe</td>\n",
       "      <td>bo3</td>\n",
       "      <td>19:30</td>\n",
       "      <td>0</td>\n",
       "      <td>Nemiga</td>\n",
       "      <td>DMS</td>\n",
       "    </tr>\n",
       "    <tr>\n",
       "      <th>...</th>\n",
       "      <td>...</td>\n",
       "      <td>...</td>\n",
       "      <td>...</td>\n",
       "      <td>...</td>\n",
       "      <td>...</td>\n",
       "      <td>...</td>\n",
       "      <td>...</td>\n",
       "    </tr>\n",
       "    <tr>\n",
       "      <th>215</th>\n",
       "      <td>2024-06-11, Tuesday</td>\n",
       "      <td>YGames Pro Series 2024 - Quarter-final #4</td>\n",
       "      <td>bo3</td>\n",
       "      <td>23:30</td>\n",
       "      <td>0</td>\n",
       "      <td>TBD</td>\n",
       "      <td>TBD</td>\n",
       "    </tr>\n",
       "    <tr>\n",
       "      <th>216</th>\n",
       "      <td>2024-06-12, Wednesday</td>\n",
       "      <td>YGames Pro Series 2024 - Semi-final #1</td>\n",
       "      <td>bo3</td>\n",
       "      <td>20:30</td>\n",
       "      <td>0</td>\n",
       "      <td>TBD</td>\n",
       "      <td>TBD</td>\n",
       "    </tr>\n",
       "    <tr>\n",
       "      <th>217</th>\n",
       "      <td>2024-06-12, Wednesday</td>\n",
       "      <td>YGames Pro Series 2024 - Semi-final #2</td>\n",
       "      <td>bo3</td>\n",
       "      <td>23:30</td>\n",
       "      <td>0</td>\n",
       "      <td>TBD</td>\n",
       "      <td>TBD</td>\n",
       "    </tr>\n",
       "    <tr>\n",
       "      <th>218</th>\n",
       "      <td>2024-06-13, Thursday</td>\n",
       "      <td>YGames Pro Series 2024 - 3rd Place Decider Match</td>\n",
       "      <td>bo3</td>\n",
       "      <td>20:30</td>\n",
       "      <td>0</td>\n",
       "      <td>TBD</td>\n",
       "      <td>TBD</td>\n",
       "    </tr>\n",
       "    <tr>\n",
       "      <th>219</th>\n",
       "      <td>2024-06-13, Thursday</td>\n",
       "      <td>YGames Pro Series 2024 - Grand Final</td>\n",
       "      <td>bo5</td>\n",
       "      <td>23:30</td>\n",
       "      <td>0</td>\n",
       "      <td>TBD</td>\n",
       "      <td>TBD</td>\n",
       "    </tr>\n",
       "  </tbody>\n",
       "</table>\n",
       "<p>220 rows × 7 columns</p>\n",
       "</div>"
      ],
      "text/plain": [
       "                 matchDate                                    matchEventName  \\\n",
       "0     2024-05-30, Thursday                  MESA Nomadic Masters Spring 2024   \n",
       "1     2024-05-30, Thursday                     European Pro League Season 16   \n",
       "2     2024-05-30, Thursday                      CCT Season 2 Europe Series 4   \n",
       "3     2024-05-30, Thursday                     European Pro League Season 16   \n",
       "4     2024-05-30, Thursday                    ESEA Advanced Season 49 Europe   \n",
       "..                     ...                                               ...   \n",
       "215    2024-06-11, Tuesday         YGames Pro Series 2024 - Quarter-final #4   \n",
       "216  2024-06-12, Wednesday            YGames Pro Series 2024 - Semi-final #1   \n",
       "217  2024-06-12, Wednesday            YGames Pro Series 2024 - Semi-final #2   \n",
       "218   2024-06-13, Thursday  YGames Pro Series 2024 - 3rd Place Decider Match   \n",
       "219   2024-06-13, Thursday              YGames Pro Series 2024 - Grand Final   \n",
       "\n",
       "    matchMeta matchTime matchRating         matchTeam1  matchTeam2  \n",
       "0         bo3     15:45           1  Chinggis Warriors          OG  \n",
       "1         bo3     16:00           0            iNation    Permitta  \n",
       "2         bo3     17:30           1              FURIA        RUBY  \n",
       "3         bo3     19:00           0      Zero Tenacity  Passion UA  \n",
       "4         bo3     19:30           0             Nemiga         DMS  \n",
       "..        ...       ...         ...                ...         ...  \n",
       "215       bo3     23:30           0                TBD         TBD  \n",
       "216       bo3     20:30           0                TBD         TBD  \n",
       "217       bo3     23:30           0                TBD         TBD  \n",
       "218       bo3     20:30           0                TBD         TBD  \n",
       "219       bo5     23:30           0                TBD         TBD  \n",
       "\n",
       "[220 rows x 7 columns]"
      ]
     },
     "execution_count": 12,
     "metadata": {},
     "output_type": "execute_result"
    }
   ],
   "source": [
    "all_matches_df"
   ]
  },
  {
   "cell_type": "code",
   "execution_count": 13,
   "metadata": {},
   "outputs": [],
   "source": [
    "test = Database('test.db')"
   ]
  },
  {
   "cell_type": "code",
   "execution_count": 19,
   "metadata": {},
   "outputs": [
    {
     "name": "stdout",
     "output_type": "stream",
     "text": [
      "Table 'matches' created successfully and records inserted from the DataFrame.\n"
     ]
    }
   ],
   "source": [
    "test.create_table_from_dataframe('matches',dataframe=all_matches_df)"
   ]
  },
  {
   "cell_type": "code",
   "execution_count": 20,
   "metadata": {},
   "outputs": [
    {
     "name": "stdout",
     "output_type": "stream",
     "text": [
      "Field\t\tType\t\tNull\tKey\tDefault\tExtra\n",
      "0\tmatchDate\tTEXT\t0\tNone\t0\n",
      "1\tmatchEventName\tTEXT\t0\tNone\t0\n",
      "2\tmatchMeta\tTEXT\t0\tNone\t0\n",
      "3\tmatchTime\tTEXT\t0\tNone\t0\n",
      "4\tmatchRating\tTEXT\t0\tNone\t0\n",
      "5\tmatchTeam1\tTEXT\t0\tNone\t0\n",
      "6\tmatchTeam2\tTEXT\t0\tNone\t0\n"
     ]
    }
   ],
   "source": [
    "test.describe_table('matches')"
   ]
  },
  {
   "cell_type": "code",
   "execution_count": 22,
   "metadata": {},
   "outputs": [
    {
     "name": "stdout",
     "output_type": "stream",
     "text": [
      "All rows deleted from the 'matches' table.\n"
     ]
    }
   ],
   "source": [
    "test.clear_table('matches')"
   ]
  },
  {
   "cell_type": "code",
   "execution_count": null,
   "metadata": {},
   "outputs": [],
   "source": []
  }
 ],
 "metadata": {
  "kernelspec": {
   "display_name": "Python 3",
   "language": "python",
   "name": "python3"
  },
  "language_info": {
   "codemirror_mode": {
    "name": "ipython",
    "version": 3
   },
   "file_extension": ".py",
   "mimetype": "text/x-python",
   "name": "python",
   "nbconvert_exporter": "python",
   "pygments_lexer": "ipython3",
   "version": "3.10.4"
  }
 },
 "nbformat": 4,
 "nbformat_minor": 2
}
